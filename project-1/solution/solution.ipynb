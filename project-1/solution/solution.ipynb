{
 "cells": [
  {
   "cell_type": "markdown",
   "metadata": {},
   "source": [
    "# Project 1\n",
    "\n",
    "In this first project you will create a framework to scope out data science projects. This framework will provide you with a guide to develop a well-articulated problem statement and analysis plan that will be robust and reproducible."
   ]
  },
  {
   "cell_type": "markdown",
   "metadata": {},
   "source": [
    "### Read and evaluate the following problem statement: \n",
    "Determine which free-tier customers will covert to paying customers, using demographic data collected at signup (age, gender, location, and profession) and customer usage data (days since last log in, and activity score 1 = active user, 0= inactive user) based on Hooli data from Jan-Apr 2015. \n"
   ]
  },
  {
   "cell_type": "markdown",
   "metadata": {},
   "source": [
    "#### 1. What is the outcome?"
   ]
  },
  {
   "cell_type": "markdown",
   "metadata": {},
   "source": [
    "Answer: \n",
    "\n",
    "Free-tier customer conversion - Predict if the customer will convert or not"
   ]
  },
  {
   "cell_type": "markdown",
   "metadata": {},
   "source": [
    "#### 2. What are the predictors/covariates? "
   ]
  },
  {
   "cell_type": "markdown",
   "metadata": {},
   "source": [
    "Answer: \n",
    "\n",
    "Generally the predictors and covariates are as follows:\n",
    "age, gender, location, profession, days since last login, and activity score\n",
    "\n",
    "Define the following: \n",
    "\n",
    "1) A predictor is a variable that helps forecasts an outcome. (An independent variable in an experiment)\n",
    "\n",
    "2) A covariate is normally defined as a variable that influences the dependent variable (the outcome), but is not viewed as one of the main predicting variables. Can be viewed as a control variable\n",
    "\n",
    "A well stated hypothesis states which variables will be tested as predictors of the outcome. This statement does not have a hypothesis. The statement only says that these data will be used to predict not how these data will be used. Without knowing the how, it is impossible to classify a predictor vs covariate. \n",
    "\n",
    "Let's assume that the hypothesis stated that days since last login will predict if a free-tier will convert to paying customer beyond an acceptable threshold of statistical randomness.\n",
    "\n",
    "Null hypothesis: There is no relationship between days since last login and conversion\n",
    "\n",
    "Alternative hypothesis: There is a statistically significate relationship between days since last login and conversion\n",
    "\n",
    "In this case,\n",
    "\n",
    "Predictor: Days since last login\n",
    "Covariates: age, gender, location, profession, and activity score"
   ]
  },
  {
   "cell_type": "markdown",
   "metadata": {},
   "source": [
    "#### 3. What timeframe is this data relevant for?"
   ]
  },
  {
   "cell_type": "markdown",
   "metadata": {},
   "source": [
    "Answer: \n",
    "\n",
    "Jan - Apr 2015"
   ]
  },
  {
   "cell_type": "markdown",
   "metadata": {},
   "source": [
    "#### 4. What is the hypothesis?"
   ]
  },
  {
   "cell_type": "markdown",
   "metadata": {},
   "source": [
    "Answer: \n",
    "\n",
    "The demographic and usage data for Hooli free-tier users will enable prediction of whether or not a customer converts to a paid membership."
   ]
  },
  {
   "cell_type": "markdown",
   "metadata": {},
   "source": [
    "## Let's get started with our dataset"
   ]
  },
  {
   "cell_type": "markdown",
   "metadata": {},
   "source": [
    "#### 1. Create a data dictionary "
   ]
  },
  {
   "cell_type": "markdown",
   "metadata": {},
   "source": [
    "Answer: \n",
    "\n",
    "Variable | Description | Type\n",
    "---| ---| ---\n",
    "Admit | 1 = admitted 0 = denied | categorical\n",
    "GRE | GRE test score | discrete\n",
    "GPA | Grade point average | continuous\n",
    "Presitge | Undergraduate institution prestige classification | categorical\n"
   ]
  },
  {
   "cell_type": "markdown",
   "metadata": {},
   "source": [
    "We would like to explore the association between X and Y "
   ]
  },
  {
   "cell_type": "markdown",
   "metadata": {},
   "source": [
    "#### 2. What is the outcome?"
   ]
  },
  {
   "cell_type": "markdown",
   "metadata": {},
   "source": [
    "Answer:\n",
    "\n",
    "Was the candidate admitted or not (1 = admitted, 0 = denied)"
   ]
  },
  {
   "cell_type": "markdown",
   "metadata": {},
   "source": [
    "#### 3. What are the predictors/covariates? "
   ]
  },
  {
   "cell_type": "markdown",
   "metadata": {},
   "source": [
    "Answer:\n",
    "\n",
    "GRE, GPA, Prestige"
   ]
  },
  {
   "cell_type": "markdown",
   "metadata": {},
   "source": [
    "#### 4. What timeframe is this data relevant for?"
   ]
  },
  {
   "cell_type": "markdown",
   "metadata": {},
   "source": [
    "Answer:\n",
    "\n",
    "Unfortunately, neither these data provided nor the reference sites provide insight into which time period these data were collected."
   ]
  },
  {
   "cell_type": "markdown",
   "metadata": {},
   "source": [
    "#### 5. What is the hypothesis?"
   ]
  },
  {
   "cell_type": "markdown",
   "metadata": {},
   "source": [
    "Answer:\n",
    "\n",
    "The admission statistics regarding gre, gpa, and prestige of an applicant will predict whether or not an applicant is admitted"
   ]
  },
  {
   "cell_type": "markdown",
   "metadata": {},
   "source": [
    "#### 6. Using the above information, write a well-formed problem statement. \n"
   ]
  },
  {
   "cell_type": "markdown",
   "metadata": {},
   "source": [
    "Answer:\n",
    "\n",
    "The goal of this study is to determine which applicants to UCLA will be admitted using data collected from previous applications (GRE scores, GPA's and prestige of previously attended educational institution) from some date to some date."
   ]
  },
  {
   "cell_type": "markdown",
   "metadata": {},
   "source": [
    "### Exploratory Analysis Plan"
   ]
  },
  {
   "cell_type": "markdown",
   "metadata": {},
   "source": [
    "Using the lab from a class as a guide, create an exploratory analysis plan. "
   ]
  },
  {
   "cell_type": "markdown",
   "metadata": {},
   "source": [
    "#### 1. What are the goals of the exploratory analysis? "
   ]
  },
  {
   "cell_type": "markdown",
   "metadata": {
    "collapsed": true
   },
   "source": [
    "Answer: \n",
    "\n",
    "The goal of exploratory data analysis is to create a summary of data (min, max, median, etc.) and identify key characteristics about and potential relationships between each variable (time series, histograms, scatter plots, ect)."
   ]
  },
  {
   "cell_type": "markdown",
   "metadata": {},
   "source": [
    "#### 2a. What are the assumptions regarding the distribution of the data? "
   ]
  },
  {
   "cell_type": "markdown",
   "metadata": {},
   "source": [
    "Answer:\n",
    "\n",
    "1) GPA and GRE scores will appear as more continuous distributions\n",
    "\n",
    "2) GPA and GRE scores will be negatively skewed \n",
    "    This is because only more qualified inidividuals would be applying to a graduate program.\n",
    "\n",
    "3) Admit will only be 0 or 1 and there will most likely be fewer admits than denies. \n",
    "\n",
    "4) Prestige will be discrete. It will have fewer 4's and 1's than 2's and 3's. This is because there are more students at average schools than top tier or low tier schools. "
   ]
  },
  {
   "cell_type": "markdown",
   "metadata": {},
   "source": [
    "#### 2b. How will you determine the distribution of your data? "
   ]
  },
  {
   "cell_type": "markdown",
   "metadata": {
    "collapsed": true
   },
   "source": [
    "Answer: \n",
    "\n",
    "Generate a histogram (value vs frequency) for each variable. This view illuminates the shape of the distribution of each variable. For instance, it will help show if GRE scores are skewed right or left. \n",
    "\n",
    "Furthermore it might be useful to create scatter plots between each variable to see if there are any correlations between the variables.\n"
   ]
  },
  {
   "cell_type": "markdown",
   "metadata": {},
   "source": [
    "#### 3a. How might outliers impact your analysis? "
   ]
  },
  {
   "cell_type": "markdown",
   "metadata": {
    "collapsed": true
   },
   "source": [
    "Answer: \n",
    "\n",
    "Outliers might throw off the descritipion of distributions. For instance, the mean is highly influenced by outliers. If the mean is used in any model calculations (standard deviation calculations, regressions, ect) the calculations would be thrown off, and the output of the model would not be a fair representation of true outcomes. "
   ]
  },
  {
   "cell_type": "markdown",
   "metadata": {},
   "source": [
    "#### 3b. How will you test for outliers? "
   ]
  },
  {
   "cell_type": "markdown",
   "metadata": {},
   "source": [
    "Answer:\n",
    "\n",
    "One of the easiest tests comes from an inspection of the distributions of each variable. For instance, when graphing the histogram of GRE scores, one can identify the single applicant with a score of 200 on the GRE. This is out of place for normal admissions. This could be anything 4 standard deviations away from the mean or median. \n",
    "\n",
    "Another way is use statistical tests for outliers such as an interquartile range calculation and a box and wisker plot. From tests like these one can identify potential outliers and eliminate these samples. \n",
    "\n",
    "The threshold at which outliers are removed could be first quartile - 1.5 * (interquartile range) or third quartile + 1.5*(IQR). Anything above or below this range would be an outlier variable and removed. \n",
    "\n",
    "The important thing is to use a consistent threshold value so that results are reproducable. "
   ]
  },
  {
   "cell_type": "markdown",
   "metadata": {},
   "source": [
    "#### 4. What is your exploratory analysis plan?\n",
    "Using the above information, write an exploratory analysis plan that would allow you or a colleague to reproduce your analysis 1 year from now. "
   ]
  },
  {
   "cell_type": "markdown",
   "metadata": {},
   "source": [
    "Answer:\n",
    "\n",
    "1) Create a data dictionary\n",
    "2) Identify and review key assumptions\n",
    "3) Graph histograms of each variable\n",
    "4) Graph scatter plots between each potential predictor variable to identify potential correlations.\n",
    "5) Identify outliers using same statistical methods, (interquartile range, graphing, ect) \n",
    "6) Remove outliers using the same thresholds set in previous analyses"
   ]
  },
  {
   "cell_type": "markdown",
   "metadata": {},
   "source": [
    "## Bonus Questions:\n",
    "1. Outline your analysis method for predicting your outcome\n",
    "2. Write an alternative problem statement for your dataset\n",
    "3. Articulate the assumptions and risks of the alternative model"
   ]
  }
 ],
 "metadata": {
  "anaconda-cloud": {},
  "kernelspec": {
   "display_name": "Python [Root]",
   "language": "python",
   "name": "Python [Root]"
  },
  "language_info": {
   "codemirror_mode": {
    "name": "ipython",
    "version": 2
   },
   "file_extension": ".py",
   "mimetype": "text/x-python",
   "name": "python",
   "nbconvert_exporter": "python",
   "pygments_lexer": "ipython2",
   "version": "2.7.12"
  },
  "widgets": {
   "state": {},
   "version": "1.1.2"
  }
 },
 "nbformat": 4,
 "nbformat_minor": 0
}
